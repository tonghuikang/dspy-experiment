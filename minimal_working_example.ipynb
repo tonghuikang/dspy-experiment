{
 "cells": [
  {
   "cell_type": "code",
   "execution_count": null,
   "id": "5fd986f8",
   "metadata": {},
   "outputs": [],
   "source": [
    "# https://dspy-docs.vercel.app/docs/quick-start/minimal-example"
   ]
  },
  {
   "cell_type": "code",
   "execution_count": 1,
   "id": "d20d4731",
   "metadata": {},
   "outputs": [
    {
     "data": {
      "application/json": {
       "ascii": false,
       "bar_format": null,
       "colour": null,
       "elapsed": 0.028205156326293945,
       "initial": 0,
       "n": 0,
       "ncols": null,
       "nrows": 43,
       "postfix": null,
       "prefix": "Downloading readme",
       "rate": null,
       "total": 7940,
       "unit": "B",
       "unit_divisor": 1000,
       "unit_scale": true
      },
      "application/vnd.jupyter.widget-view+json": {
       "model_id": "d5a618b0063d4d69988f68beca0583c7",
       "version_major": 2,
       "version_minor": 0
      },
      "text/plain": [
       "Downloading readme:   0%|          | 0.00/7.94k [00:00<?, ?B/s]"
      ]
     },
     "metadata": {},
     "output_type": "display_data"
    },
    {
     "data": {
      "application/json": {
       "ascii": false,
       "bar_format": null,
       "colour": null,
       "elapsed": 0.0349881649017334,
       "initial": 0,
       "n": 0,
       "ncols": null,
       "nrows": 43,
       "postfix": null,
       "prefix": "Downloading data files",
       "rate": null,
       "total": 2,
       "unit": "it",
       "unit_divisor": 1000,
       "unit_scale": false
      },
      "application/vnd.jupyter.widget-view+json": {
       "model_id": "c28e5a8361eb41559d4c605cca09e0ae",
       "version_major": 2,
       "version_minor": 0
      },
      "text/plain": [
       "Downloading data files:   0%|          | 0/2 [00:00<?, ?it/s]"
      ]
     },
     "metadata": {},
     "output_type": "display_data"
    },
    {
     "data": {
      "application/json": {
       "ascii": false,
       "bar_format": null,
       "colour": null,
       "elapsed": 0.032556772232055664,
       "initial": 0,
       "n": 0,
       "ncols": null,
       "nrows": 43,
       "postfix": null,
       "prefix": "Downloading data",
       "rate": null,
       "total": 2306545,
       "unit": "B",
       "unit_divisor": 1000,
       "unit_scale": true
      },
      "application/vnd.jupyter.widget-view+json": {
       "model_id": "b2932ab4faf9490baee423290bf9847b",
       "version_major": 2,
       "version_minor": 0
      },
      "text/plain": [
       "Downloading data:   0%|          | 0.00/2.31M [00:00<?, ?B/s]"
      ]
     },
     "metadata": {},
     "output_type": "display_data"
    },
    {
     "data": {
      "application/json": {
       "ascii": false,
       "bar_format": null,
       "colour": null,
       "elapsed": 0.025839805603027344,
       "initial": 0,
       "n": 0,
       "ncols": null,
       "nrows": 43,
       "postfix": null,
       "prefix": "Downloading data",
       "rate": null,
       "total": 419088,
       "unit": "B",
       "unit_divisor": 1000,
       "unit_scale": true
      },
      "application/vnd.jupyter.widget-view+json": {
       "model_id": "039761baaa374bd3b8c60cde003d72c7",
       "version_major": 2,
       "version_minor": 0
      },
      "text/plain": [
       "Downloading data:   0%|          | 0.00/419k [00:00<?, ?B/s]"
      ]
     },
     "metadata": {},
     "output_type": "display_data"
    },
    {
     "data": {
      "application/json": {
       "ascii": false,
       "bar_format": null,
       "colour": null,
       "elapsed": 0.019520998001098633,
       "initial": 0,
       "n": 0,
       "ncols": null,
       "nrows": 43,
       "postfix": null,
       "prefix": "Extracting data files",
       "rate": null,
       "total": 2,
       "unit": "it",
       "unit_divisor": 1000,
       "unit_scale": false
      },
      "application/vnd.jupyter.widget-view+json": {
       "model_id": "86672b101d0b4125a925e5335ed67793",
       "version_major": 2,
       "version_minor": 0
      },
      "text/plain": [
       "Extracting data files:   0%|          | 0/2 [00:00<?, ?it/s]"
      ]
     },
     "metadata": {},
     "output_type": "display_data"
    },
    {
     "data": {
      "application/json": {
       "ascii": false,
       "bar_format": null,
       "colour": null,
       "elapsed": 0.014101743698120117,
       "initial": 0,
       "n": 0,
       "ncols": null,
       "nrows": 43,
       "postfix": null,
       "prefix": "Generating train split",
       "rate": null,
       "total": 7473,
       "unit": " examples",
       "unit_divisor": 1000,
       "unit_scale": false
      },
      "application/vnd.jupyter.widget-view+json": {
       "model_id": "62ac03cf6f204a47826a25a8a9aabe26",
       "version_major": 2,
       "version_minor": 0
      },
      "text/plain": [
       "Generating train split:   0%|          | 0/7473 [00:00<?, ? examples/s]"
      ]
     },
     "metadata": {},
     "output_type": "display_data"
    },
    {
     "data": {
      "application/json": {
       "ascii": false,
       "bar_format": null,
       "colour": null,
       "elapsed": 0.011256933212280273,
       "initial": 0,
       "n": 0,
       "ncols": null,
       "nrows": 43,
       "postfix": null,
       "prefix": "Generating test split",
       "rate": null,
       "total": 1319,
       "unit": " examples",
       "unit_divisor": 1000,
       "unit_scale": false
      },
      "application/vnd.jupyter.widget-view+json": {
       "model_id": "146dd414e49a46b1ae20c409cfec192c",
       "version_major": 2,
       "version_minor": 0
      },
      "text/plain": [
       "Generating test split:   0%|          | 0/1319 [00:00<?, ? examples/s]"
      ]
     },
     "metadata": {},
     "output_type": "display_data"
    },
    {
     "name": "stderr",
     "output_type": "stream",
     "text": [
      "100%|████████████████████████████████████████████████████████████████████████████████████████████████████████████████████████████████████████████████████████████████| 7473/7473 [00:00<00:00, 45251.95it/s]\n",
      "100%|████████████████████████████████████████████████████████████████████████████████████████████████████████████████████████████████████████████████████████████████| 1319/1319 [00:00<00:00, 45481.19it/s]\n"
     ]
    }
   ],
   "source": [
    "import dspy\n",
    "from dspy.datasets.gsm8k import GSM8K, gsm8k_metric\n",
    "\n",
    "# Set up the LM\n",
    "turbo = dspy.OpenAI(model='gpt-3.5-turbo-instruct', max_tokens=250)\n",
    "dspy.settings.configure(lm=turbo)\n",
    "\n",
    "# Load math questions from the GSM8K dataset\n",
    "gms8k = GSM8K()\n",
    "gsm8k_trainset, gsm8k_devset = gms8k.train[:10], gms8k.dev[:10]"
   ]
  },
  {
   "cell_type": "code",
   "execution_count": 13,
   "id": "356009c8",
   "metadata": {},
   "outputs": [
    {
     "data": {
      "text/plain": [
       "['question', 'gold_reasoning', 'answer']"
      ]
     },
     "execution_count": 13,
     "metadata": {},
     "output_type": "execute_result"
    }
   ],
   "source": [
    "gsm8k_trainset[0].keys()"
   ]
  },
  {
   "cell_type": "code",
   "execution_count": 10,
   "id": "fd980c0f",
   "metadata": {},
   "outputs": [
    {
     "data": {
      "text/plain": [
       "\"The result from the 40-item Statistics exam Marion and Ella took already came out. Ella got 4 incorrect answers while Marion got 6 more than half the score of Ella. What is Marion's score?\""
      ]
     },
     "execution_count": 10,
     "metadata": {},
     "output_type": "execute_result"
    }
   ],
   "source": [
    "gsm8k_trainset[0].question"
   ]
  },
  {
   "cell_type": "code",
   "execution_count": 14,
   "id": "32067327",
   "metadata": {},
   "outputs": [
    {
     "data": {
      "text/plain": [
       "\"Ella's score is 40 items - 4 items = <<40-4=36>>36 items. Half of Ella's score is 36 items / 2 = <<36/2=18>>18 items. So, Marion's score is 18 items + 6 items = <<18+6=24>>24 items.\""
      ]
     },
     "execution_count": 14,
     "metadata": {},
     "output_type": "execute_result"
    }
   ],
   "source": [
    "gsm8k_trainset[0].gold_reasoning"
   ]
  },
  {
   "cell_type": "code",
   "execution_count": 15,
   "id": "d63d09e4",
   "metadata": {},
   "outputs": [
    {
     "data": {
      "text/plain": [
       "'24'"
      ]
     },
     "execution_count": 15,
     "metadata": {},
     "output_type": "execute_result"
    }
   ],
   "source": [
    "gsm8k_trainset[0].answer"
   ]
  },
  {
   "cell_type": "code",
   "execution_count": 2,
   "id": "13808fdb",
   "metadata": {},
   "outputs": [],
   "source": [
    "class CoT(dspy.Module):\n",
    "    def __init__(self):\n",
    "        super().__init__()\n",
    "        self.prog = dspy.ChainOfThought(\"question -> answer\")\n",
    "    \n",
    "    def forward(self, question):\n",
    "        return self.prog(question=question)"
   ]
  },
  {
   "cell_type": "code",
   "execution_count": 21,
   "id": "de1858e4",
   "metadata": {},
   "outputs": [
    {
     "name": "stdout",
     "output_type": "stream",
     "text": [
      "Going to sample between 1 and 4 traces per predictor.\n",
      "Will attempt to train 16 candidate sets.\n"
     ]
    },
    {
     "name": "stderr",
     "output_type": "stream",
     "text": [
      "Average Metric: 6 / 10  (60.0): 100%|█████████████████████████████████████████████████████████████████████████████████████████████████████████████████████████████████████| 10/10 [00:00<00:00, 1219.24it/s]\n"
     ]
    },
    {
     "name": "stdout",
     "output_type": "stream",
     "text": [
      "Average Metric: 6 / 10  (60.0%)\n",
      "Score: 60.0 for set: [0]\n",
      "New best score: 60.0 for seed -3\n",
      "Scores so far: [60.0]\n",
      "Best score: 60.0\n"
     ]
    },
    {
     "name": "stderr",
     "output_type": "stream",
     "text": [
      "Average Metric: 8 / 10  (80.0): 100%|█████████████████████████████████████████████████████████████████████████████████████████████████████████████████████████████████████| 10/10 [00:00<00:00, 1957.39it/s]\n"
     ]
    },
    {
     "name": "stdout",
     "output_type": "stream",
     "text": [
      "Average Metric: 8 / 10  (80.0%)\n",
      "Score: 80.0 for set: [4]\n",
      "New best score: 80.0 for seed -2\n",
      "Scores so far: [60.0, 80.0]\n",
      "Best score: 80.0\n"
     ]
    },
    {
     "name": "stderr",
     "output_type": "stream",
     "text": [
      " 50%|███████████████████████████████████████████████████████████████████████████████████                                                                                   | 5/10 [00:00<00:00, 2591.96it/s]\n"
     ]
    },
    {
     "name": "stdout",
     "output_type": "stream",
     "text": [
      "Bootstrapped 4 full traces after 6 examples in round 0.\n"
     ]
    },
    {
     "name": "stderr",
     "output_type": "stream",
     "text": [
      "Average Metric: 7 / 10  (70.0): 100%|█████████████████████████████████████████████████████████████████████████████████████████████████████████████████████████████████████| 10/10 [00:00<00:00, 2191.15it/s]\n"
     ]
    },
    {
     "name": "stdout",
     "output_type": "stream",
     "text": [
      "Average Metric: 7 / 10  (70.0%)\n",
      "Score: 70.0 for set: [4]\n",
      "Scores so far: [60.0, 80.0, 70.0]\n",
      "Best score: 80.0\n",
      "Average of max per entry across top 1 scores: 0.8\n",
      "Average of max per entry across top 2 scores: 0.9\n",
      "Average of max per entry across top 3 scores: 1.0\n",
      "Average of max per entry across top 5 scores: 1.0\n",
      "Average of max per entry across top 8 scores: 1.0\n",
      "Average of max per entry across top 9999 scores: 1.0\n"
     ]
    },
    {
     "name": "stderr",
     "output_type": "stream",
     "text": [
      " 50%|███████████████████████████████████████████████████████████████████████████████████                                                                                   | 5/10 [00:00<00:00, 3579.37it/s]\n"
     ]
    },
    {
     "name": "stdout",
     "output_type": "stream",
     "text": [
      "Bootstrapped 4 full traces after 6 examples in round 0.\n"
     ]
    },
    {
     "name": "stderr",
     "output_type": "stream",
     "text": [
      "Average Metric: 8 / 10  (80.0): 100%|█████████████████████████████████████████████████████████████████████████████████████████████████████████████████████████████████████| 10/10 [00:00<00:00, 2865.35it/s]\n"
     ]
    },
    {
     "name": "stdout",
     "output_type": "stream",
     "text": [
      "Average Metric: 8 / 10  (80.0%)\n",
      "Score: 80.0 for set: [4]\n",
      "Scores so far: [60.0, 80.0, 70.0, 80.0]\n",
      "Best score: 80.0\n",
      "Average of max per entry across top 1 scores: 0.8\n",
      "Average of max per entry across top 2 scores: 0.9\n",
      "Average of max per entry across top 3 scores: 0.9\n",
      "Average of max per entry across top 5 scores: 1.0\n",
      "Average of max per entry across top 8 scores: 1.0\n",
      "Average of max per entry across top 9999 scores: 1.0\n"
     ]
    },
    {
     "name": "stderr",
     "output_type": "stream",
     "text": [
      " 20%|█████████████████████████████████▏                                                                                                                                    | 2/10 [00:00<00:00, 3236.35it/s]\n"
     ]
    },
    {
     "name": "stdout",
     "output_type": "stream",
     "text": [
      "Bootstrapped 2 full traces after 3 examples in round 0.\n"
     ]
    },
    {
     "name": "stderr",
     "output_type": "stream",
     "text": [
      "Average Metric: 8 / 10  (80.0): 100%|█████████████████████████████████████████████████████████████████████████████████████████████████████████████████████████████████████| 10/10 [00:00<00:00, 2827.30it/s]\n"
     ]
    },
    {
     "name": "stdout",
     "output_type": "stream",
     "text": [
      "Average Metric: 8 / 10  (80.0%)\n",
      "Score: 80.0 for set: [4]\n",
      "Scores so far: [60.0, 80.0, 70.0, 80.0, 80.0]\n",
      "Best score: 80.0\n",
      "Average of max per entry across top 1 scores: 0.8\n",
      "Average of max per entry across top 2 scores: 0.9\n",
      "Average of max per entry across top 3 scores: 0.9\n",
      "Average of max per entry across top 5 scores: 1.0\n",
      "Average of max per entry across top 8 scores: 1.0\n",
      "Average of max per entry across top 9999 scores: 1.0\n"
     ]
    },
    {
     "name": "stderr",
     "output_type": "stream",
     "text": [
      " 10%|████████████████▌                                                                                                                                                     | 1/10 [00:00<00:00, 1572.08it/s]\n"
     ]
    },
    {
     "name": "stdout",
     "output_type": "stream",
     "text": [
      "Bootstrapped 1 full traces after 2 examples in round 0.\n"
     ]
    },
    {
     "name": "stderr",
     "output_type": "stream",
     "text": [
      "Average Metric: 9 / 10  (90.0): 100%|█████████████████████████████████████████████████████████████████████████████████████████████████████████████████████████████████████| 10/10 [00:00<00:00, 2507.51it/s]\n"
     ]
    },
    {
     "name": "stdout",
     "output_type": "stream",
     "text": [
      "Average Metric: 9 / 10  (90.0%)\n",
      "Score: 90.0 for set: [4]\n",
      "New best score: 90.0 for seed 2\n",
      "Scores so far: [60.0, 80.0, 70.0, 80.0, 80.0, 90.0]\n",
      "Best score: 90.0\n",
      "Average of max per entry across top 1 scores: 0.9\n",
      "Average of max per entry across top 2 scores: 1.0\n",
      "Average of max per entry across top 3 scores: 1.0\n",
      "Average of max per entry across top 5 scores: 1.0\n",
      "Average of max per entry across top 8 scores: 1.0\n",
      "Average of max per entry across top 9999 scores: 1.0\n"
     ]
    },
    {
     "name": "stderr",
     "output_type": "stream",
     "text": [
      " 30%|█████████████████████████████████████████████████▊                                                                                                                    | 3/10 [00:00<00:00, 1385.02it/s]\n"
     ]
    },
    {
     "name": "stdout",
     "output_type": "stream",
     "text": [
      "Bootstrapped 2 full traces after 4 examples in round 0.\n"
     ]
    },
    {
     "name": "stderr",
     "output_type": "stream",
     "text": [
      "Average Metric: 8 / 10  (80.0): 100%|█████████████████████████████████████████████████████████████████████████████████████████████████████████████████████████████████████| 10/10 [00:00<00:00, 2615.88it/s]\n"
     ]
    },
    {
     "name": "stdout",
     "output_type": "stream",
     "text": [
      "Average Metric: 8 / 10  (80.0%)\n",
      "Score: 80.0 for set: [4]\n",
      "Scores so far: [60.0, 80.0, 70.0, 80.0, 80.0, 90.0, 80.0]\n",
      "Best score: 90.0\n",
      "Average of max per entry across top 1 scores: 0.9\n",
      "Average of max per entry across top 2 scores: 1.0\n",
      "Average of max per entry across top 3 scores: 1.0\n",
      "Average of max per entry across top 5 scores: 1.0\n",
      "Average of max per entry across top 8 scores: 1.0\n",
      "Average of max per entry across top 9999 scores: 1.0\n"
     ]
    },
    {
     "name": "stderr",
     "output_type": "stream",
     "text": [
      " 20%|█████████████████████████████████▏                                                                                                                                    | 2/10 [00:00<00:00, 2684.35it/s]\n"
     ]
    },
    {
     "name": "stdout",
     "output_type": "stream",
     "text": [
      "Bootstrapped 2 full traces after 3 examples in round 0.\n"
     ]
    },
    {
     "name": "stderr",
     "output_type": "stream",
     "text": [
      "Average Metric: 4 / 10  (40.0): 100%|█████████████████████████████████████████████████████████████████████████████████████████████████████████████████████████████████████| 10/10 [00:00<00:00, 2742.63it/s]\n"
     ]
    },
    {
     "name": "stdout",
     "output_type": "stream",
     "text": [
      "Average Metric: 4 / 10  (40.0%)\n",
      "Score: 40.0 for set: [4]\n",
      "Scores so far: [60.0, 80.0, 70.0, 80.0, 80.0, 90.0, 80.0, 40.0]\n",
      "Best score: 90.0\n",
      "Average of max per entry across top 1 scores: 0.9\n",
      "Average of max per entry across top 2 scores: 1.0\n",
      "Average of max per entry across top 3 scores: 1.0\n",
      "Average of max per entry across top 5 scores: 1.0\n",
      "Average of max per entry across top 8 scores: 1.0\n",
      "Average of max per entry across top 9999 scores: 1.0\n"
     ]
    },
    {
     "name": "stderr",
     "output_type": "stream",
     "text": [
      " 30%|██████████████████████████████████████████████████▍                                                                                                                     | 3/10 [00:00<00:00, 90.17it/s]\n"
     ]
    },
    {
     "name": "stdout",
     "output_type": "stream",
     "text": [
      "Bootstrapped 3 full traces after 4 examples in round 0.\n"
     ]
    },
    {
     "name": "stderr",
     "output_type": "stream",
     "text": [
      "Average Metric: 6 / 10  (60.0): 100%|██████████████████████████████████████████████████████████████████████████████████████████████████████████████████████████████████████| 10/10 [00:00<00:00, 587.82it/s]\n"
     ]
    },
    {
     "name": "stdout",
     "output_type": "stream",
     "text": [
      "Average Metric: 6 / 10  (60.0%)\n",
      "Score: 60.0 for set: [4]\n",
      "Scores so far: [60.0, 80.0, 70.0, 80.0, 80.0, 90.0, 80.0, 40.0, 60.0]\n",
      "Best score: 90.0\n",
      "Average of max per entry across top 1 scores: 0.9\n",
      "Average of max per entry across top 2 scores: 1.0\n",
      "Average of max per entry across top 3 scores: 1.0\n",
      "Average of max per entry across top 5 scores: 1.0\n",
      "Average of max per entry across top 8 scores: 1.0\n",
      "Average of max per entry across top 9999 scores: 1.0\n"
     ]
    },
    {
     "name": "stderr",
     "output_type": "stream",
     "text": [
      " 10%|████████████████▌                                                                                                                                                     | 1/10 [00:00<00:00, 2132.34it/s]\n"
     ]
    },
    {
     "name": "stdout",
     "output_type": "stream",
     "text": [
      "Bootstrapped 1 full traces after 2 examples in round 0.\n"
     ]
    },
    {
     "name": "stderr",
     "output_type": "stream",
     "text": [
      "Average Metric: 6 / 10  (60.0): 100%|█████████████████████████████████████████████████████████████████████████████████████████████████████████████████████████████████████| 10/10 [00:00<00:00, 2360.06it/s]\n"
     ]
    },
    {
     "name": "stdout",
     "output_type": "stream",
     "text": [
      "Average Metric: 6 / 10  (60.0%)\n",
      "Score: 60.0 for set: [4]\n",
      "Scores so far: [60.0, 80.0, 70.0, 80.0, 80.0, 90.0, 80.0, 40.0, 60.0, 60.0]\n",
      "Best score: 90.0\n",
      "Average of max per entry across top 1 scores: 0.9\n",
      "Average of max per entry across top 2 scores: 1.0\n",
      "Average of max per entry across top 3 scores: 1.0\n",
      "Average of max per entry across top 5 scores: 1.0\n",
      "Average of max per entry across top 8 scores: 1.0\n",
      "Average of max per entry across top 9999 scores: 1.0\n"
     ]
    },
    {
     "name": "stderr",
     "output_type": "stream",
     "text": [
      " 60%|███████████████████████████████████████████████████████████████████████████████████████████████████▌                                                                  | 6/10 [00:00<00:00, 2016.82it/s]"
     ]
    },
    {
     "name": "stdout",
     "output_type": "stream",
     "text": [
      "Bootstrapped 3 full traces after 7 examples in round 0.\n"
     ]
    },
    {
     "name": "stderr",
     "output_type": "stream",
     "text": [
      "\n",
      "Average Metric: 7 / 10  (70.0): 100%|█████████████████████████████████████████████████████████████████████████████████████████████████████████████████████████████████████| 10/10 [00:00<00:00, 2483.89it/s]\n"
     ]
    },
    {
     "name": "stdout",
     "output_type": "stream",
     "text": [
      "Average Metric: 7 / 10  (70.0%)\n",
      "Score: 70.0 for set: [4]\n",
      "Scores so far: [60.0, 80.0, 70.0, 80.0, 80.0, 90.0, 80.0, 40.0, 60.0, 60.0, 70.0]\n",
      "Best score: 90.0\n",
      "Average of max per entry across top 1 scores: 0.9\n",
      "Average of max per entry across top 2 scores: 1.0\n",
      "Average of max per entry across top 3 scores: 1.0\n",
      "Average of max per entry across top 5 scores: 1.0\n",
      "Average of max per entry across top 8 scores: 1.0\n",
      "Average of max per entry across top 9999 scores: 1.0\n"
     ]
    },
    {
     "name": "stderr",
     "output_type": "stream",
     "text": [
      " 20%|█████████████████████████████████▏                                                                                                                                    | 2/10 [00:00<00:00, 1438.87it/s]"
     ]
    },
    {
     "name": "stdout",
     "output_type": "stream",
     "text": [
      "Bootstrapped 2 full traces after 3 examples in round 0.\n"
     ]
    },
    {
     "name": "stderr",
     "output_type": "stream",
     "text": [
      "\n",
      "Average Metric: 8 / 10  (80.0): 100%|██████████████████████████████████████████████████████████████████████████████████████████████████████████████████████████████████████| 10/10 [00:00<00:00, 942.41it/s]\n"
     ]
    },
    {
     "name": "stdout",
     "output_type": "stream",
     "text": [
      "Average Metric: 8 / 10  (80.0%)\n",
      "Score: 80.0 for set: [4]\n",
      "Scores so far: [60.0, 80.0, 70.0, 80.0, 80.0, 90.0, 80.0, 40.0, 60.0, 60.0, 70.0, 80.0]\n",
      "Best score: 90.0\n",
      "Average of max per entry across top 1 scores: 0.9\n",
      "Average of max per entry across top 2 scores: 1.0\n",
      "Average of max per entry across top 3 scores: 1.0\n",
      "Average of max per entry across top 5 scores: 1.0\n",
      "Average of max per entry across top 8 scores: 1.0\n",
      "Average of max per entry across top 9999 scores: 1.0\n"
     ]
    },
    {
     "name": "stderr",
     "output_type": "stream",
     "text": [
      " 40%|██████████████████████████████████████████████████████████████████▍                                                                                                   | 4/10 [00:00<00:00, 3205.43it/s]\n"
     ]
    },
    {
     "name": "stdout",
     "output_type": "stream",
     "text": [
      "Bootstrapped 4 full traces after 5 examples in round 0.\n"
     ]
    },
    {
     "name": "stderr",
     "output_type": "stream",
     "text": [
      "Average Metric: 7 / 10  (70.0): 100%|█████████████████████████████████████████████████████████████████████████████████████████████████████████████████████████████████████| 10/10 [00:00<00:00, 2835.91it/s]\n"
     ]
    },
    {
     "name": "stdout",
     "output_type": "stream",
     "text": [
      "Average Metric: 7 / 10  (70.0%)\n",
      "Score: 70.0 for set: [4]\n",
      "Scores so far: [60.0, 80.0, 70.0, 80.0, 80.0, 90.0, 80.0, 40.0, 60.0, 60.0, 70.0, 80.0, 70.0]\n",
      "Best score: 90.0\n",
      "Average of max per entry across top 1 scores: 0.9\n",
      "Average of max per entry across top 2 scores: 1.0\n",
      "Average of max per entry across top 3 scores: 1.0\n",
      "Average of max per entry across top 5 scores: 1.0\n",
      "Average of max per entry across top 8 scores: 1.0\n",
      "Average of max per entry across top 9999 scores: 1.0\n"
     ]
    },
    {
     "name": "stderr",
     "output_type": "stream",
     "text": [
      " 10%|████████████████▌                                                                                                                                                     | 1/10 [00:00<00:00, 2680.07it/s]\n"
     ]
    },
    {
     "name": "stdout",
     "output_type": "stream",
     "text": [
      "Bootstrapped 1 full traces after 2 examples in round 0.\n"
     ]
    },
    {
     "name": "stderr",
     "output_type": "stream",
     "text": [
      "Average Metric: 6 / 10  (60.0): 100%|█████████████████████████████████████████████████████████████████████████████████████████████████████████████████████████████████████| 10/10 [00:00<00:00, 2905.25it/s]\n"
     ]
    },
    {
     "name": "stdout",
     "output_type": "stream",
     "text": [
      "Average Metric: 6 / 10  (60.0%)\n",
      "Score: 60.0 for set: [4]\n",
      "Scores so far: [60.0, 80.0, 70.0, 80.0, 80.0, 90.0, 80.0, 40.0, 60.0, 60.0, 70.0, 80.0, 70.0, 60.0]\n",
      "Best score: 90.0\n",
      "Average of max per entry across top 1 scores: 0.9\n",
      "Average of max per entry across top 2 scores: 1.0\n",
      "Average of max per entry across top 3 scores: 1.0\n",
      "Average of max per entry across top 5 scores: 1.0\n",
      "Average of max per entry across top 8 scores: 1.0\n",
      "Average of max per entry across top 9999 scores: 1.0\n"
     ]
    },
    {
     "name": "stderr",
     "output_type": "stream",
     "text": [
      " 60%|███████████████████████████████████████████████████████████████████████████████████████████████████▌                                                                  | 6/10 [00:00<00:00, 2940.96it/s]\n"
     ]
    },
    {
     "name": "stdout",
     "output_type": "stream",
     "text": [
      "Bootstrapped 4 full traces after 7 examples in round 0.\n"
     ]
    },
    {
     "name": "stderr",
     "output_type": "stream",
     "text": [
      "Average Metric: 7 / 10  (70.0): 100%|█████████████████████████████████████████████████████████████████████████████████████████████████████████████████████████████████████| 10/10 [00:00<00:00, 2973.42it/s]\n"
     ]
    },
    {
     "name": "stdout",
     "output_type": "stream",
     "text": [
      "Average Metric: 7 / 10  (70.0%)\n",
      "Score: 70.0 for set: [4]\n",
      "Scores so far: [60.0, 80.0, 70.0, 80.0, 80.0, 90.0, 80.0, 40.0, 60.0, 60.0, 70.0, 80.0, 70.0, 60.0, 70.0]\n",
      "Best score: 90.0\n",
      "Average of max per entry across top 1 scores: 0.9\n",
      "Average of max per entry across top 2 scores: 1.0\n",
      "Average of max per entry across top 3 scores: 1.0\n",
      "Average of max per entry across top 5 scores: 1.0\n",
      "Average of max per entry across top 8 scores: 1.0\n",
      "Average of max per entry across top 9999 scores: 1.0\n"
     ]
    },
    {
     "name": "stderr",
     "output_type": "stream",
     "text": [
      " 40%|██████████████████████████████████████████████████████████████████▍                                                                                                   | 4/10 [00:00<00:00, 4051.49it/s]"
     ]
    },
    {
     "name": "stdout",
     "output_type": "stream",
     "text": [
      "Bootstrapped 4 full traces after 5 examples in round 0.\n"
     ]
    },
    {
     "name": "stderr",
     "output_type": "stream",
     "text": [
      "\n",
      "Average Metric: 7 / 10  (70.0): 100%|█████████████████████████████████████████████████████████████████████████████████████████████████████████████████████████████████████| 10/10 [00:00<00:00, 2677.33it/s]\n"
     ]
    },
    {
     "name": "stdout",
     "output_type": "stream",
     "text": [
      "Average Metric: 7 / 10  (70.0%)\n",
      "Score: 70.0 for set: [4]\n",
      "Scores so far: [60.0, 80.0, 70.0, 80.0, 80.0, 90.0, 80.0, 40.0, 60.0, 60.0, 70.0, 80.0, 70.0, 60.0, 70.0, 70.0]\n",
      "Best score: 90.0\n",
      "Average of max per entry across top 1 scores: 0.9\n",
      "Average of max per entry across top 2 scores: 1.0\n",
      "Average of max per entry across top 3 scores: 1.0\n",
      "Average of max per entry across top 5 scores: 1.0\n",
      "Average of max per entry across top 8 scores: 1.0\n",
      "Average of max per entry across top 9999 scores: 1.0\n"
     ]
    },
    {
     "name": "stderr",
     "output_type": "stream",
     "text": [
      " 40%|██████████████████████████████████████████████████████████████████▍                                                                                                   | 4/10 [00:00<00:00, 3704.40it/s]\n"
     ]
    },
    {
     "name": "stdout",
     "output_type": "stream",
     "text": [
      "Bootstrapped 3 full traces after 5 examples in round 0.\n"
     ]
    },
    {
     "name": "stderr",
     "output_type": "stream",
     "text": [
      "Average Metric: 8 / 10  (80.0): 100%|█████████████████████████████████████████████████████████████████████████████████████████████████████████████████████████████████████| 10/10 [00:00<00:00, 2275.31it/s]\n"
     ]
    },
    {
     "name": "stdout",
     "output_type": "stream",
     "text": [
      "Average Metric: 8 / 10  (80.0%)\n",
      "Score: 80.0 for set: [4]\n",
      "Scores so far: [60.0, 80.0, 70.0, 80.0, 80.0, 90.0, 80.0, 40.0, 60.0, 60.0, 70.0, 80.0, 70.0, 60.0, 70.0, 70.0, 80.0]\n",
      "Best score: 90.0\n",
      "Average of max per entry across top 1 scores: 0.9\n",
      "Average of max per entry across top 2 scores: 1.0\n",
      "Average of max per entry across top 3 scores: 1.0\n",
      "Average of max per entry across top 5 scores: 1.0\n",
      "Average of max per entry across top 8 scores: 1.0\n",
      "Average of max per entry across top 9999 scores: 1.0\n"
     ]
    },
    {
     "name": "stderr",
     "output_type": "stream",
     "text": [
      " 10%|████████████████▌                                                                                                                                                     | 1/10 [00:00<00:00, 2046.00it/s]\n"
     ]
    },
    {
     "name": "stdout",
     "output_type": "stream",
     "text": [
      "Bootstrapped 1 full traces after 2 examples in round 0.\n"
     ]
    },
    {
     "name": "stderr",
     "output_type": "stream",
     "text": [
      "Average Metric: 6 / 10  (60.0): 100%|█████████████████████████████████████████████████████████████████████████████████████████████████████████████████████████████████████| 10/10 [00:00<00:00, 2209.85it/s]\n"
     ]
    },
    {
     "name": "stdout",
     "output_type": "stream",
     "text": [
      "Average Metric: 6 / 10  (60.0%)\n",
      "Score: 60.0 for set: [4]\n",
      "Scores so far: [60.0, 80.0, 70.0, 80.0, 80.0, 90.0, 80.0, 40.0, 60.0, 60.0, 70.0, 80.0, 70.0, 60.0, 70.0, 70.0, 80.0, 60.0]\n",
      "Best score: 90.0\n",
      "Average of max per entry across top 1 scores: 0.9\n",
      "Average of max per entry across top 2 scores: 1.0\n",
      "Average of max per entry across top 3 scores: 1.0\n",
      "Average of max per entry across top 5 scores: 1.0\n",
      "Average of max per entry across top 8 scores: 1.0\n",
      "Average of max per entry across top 9999 scores: 1.0\n"
     ]
    },
    {
     "name": "stderr",
     "output_type": "stream",
     "text": [
      " 30%|█████████████████████████████████████████████████▊                                                                                                                    | 3/10 [00:00<00:00, 3895.64it/s]\n"
     ]
    },
    {
     "name": "stdout",
     "output_type": "stream",
     "text": [
      "Bootstrapped 2 full traces after 4 examples in round 0.\n"
     ]
    },
    {
     "name": "stderr",
     "output_type": "stream",
     "text": [
      "Average Metric: 8 / 10  (80.0): 100%|█████████████████████████████████████████████████████████████████████████████████████████████████████████████████████████████████████| 10/10 [00:00<00:00, 2057.24it/s]\n"
     ]
    },
    {
     "name": "stdout",
     "output_type": "stream",
     "text": [
      "Average Metric: 8 / 10  (80.0%)\n",
      "Score: 80.0 for set: [4]\n",
      "Scores so far: [60.0, 80.0, 70.0, 80.0, 80.0, 90.0, 80.0, 40.0, 60.0, 60.0, 70.0, 80.0, 70.0, 60.0, 70.0, 70.0, 80.0, 60.0, 80.0]\n",
      "Best score: 90.0\n",
      "Average of max per entry across top 1 scores: 0.9\n",
      "Average of max per entry across top 2 scores: 1.0\n",
      "Average of max per entry across top 3 scores: 1.0\n",
      "Average of max per entry across top 5 scores: 1.0\n",
      "Average of max per entry across top 8 scores: 1.0\n",
      "Average of max per entry across top 9999 scores: 1.0\n",
      "19 candidate programs found.\n"
     ]
    }
   ],
   "source": [
    "from dspy.teleprompt import BootstrapFewShot, BootstrapFewShotWithRandomSearch\n",
    "\n",
    "# Set up the optimizer: we want to \"bootstrap\" (i.e., self-generate) 4-shot examples of our CoT program.\n",
    "config = dict(max_bootstrapped_demos=4, max_labeled_demos=4)\n",
    "\n",
    "# Optimize! Use the `gms8k_metric` here. In general, the metric is going to tell the optimizer how well it's doing.\n",
    "teleprompter = BootstrapFewShotWithRandomSearch(metric=gsm8k_metric, **config)\n",
    "optimized_cot = teleprompter.compile(CoT(), trainset=gsm8k_trainset, valset=gsm8k_devset)"
   ]
  },
  {
   "cell_type": "code",
   "execution_count": 22,
   "id": "ccc71490",
   "metadata": {},
   "outputs": [
    {
     "name": "stderr",
     "output_type": "stream",
     "text": [
      "Average Metric: 9 / 10  (90.0): 100%|█████████████████████████████████████████████████████████████████████████████████████████████████████████████████████████████████████| 10/10 [00:00<00:00, 1830.22it/s]"
     ]
    },
    {
     "name": "stdout",
     "output_type": "stream",
     "text": [
      "Average Metric: 9 / 10  (90.0%)\n"
     ]
    },
    {
     "name": "stderr",
     "output_type": "stream",
     "text": [
      "\n"
     ]
    },
    {
     "data": {
      "text/plain": [
       "90.0"
      ]
     },
     "execution_count": 22,
     "metadata": {},
     "output_type": "execute_result"
    }
   ],
   "source": [
    "from dspy.evaluate import Evaluate\n",
    "\n",
    "# Set up the evaluator, which can be used multiple times.\n",
    "evaluate = Evaluate(devset=gsm8k_devset, metric=gsm8k_metric, num_threads=4, display_progress=True, display_table=0)\n",
    "\n",
    "# Evaluate our `optimized_cot` program.\n",
    "evaluate(optimized_cot)"
   ]
  },
  {
   "cell_type": "code",
   "execution_count": 41,
   "id": "d819784b",
   "metadata": {},
   "outputs": [
    {
     "data": {
      "text/plain": [
       "prog = ChainOfThought(Signature(question -> answer\n",
       "    instructions='Given the fields `question`, produce the fields `answer`.'\n",
       "    question = Field(annotation=str required=True json_schema_extra={'__dspy_field_type': 'input', 'prefix': 'Question:', 'desc': '${question}'})\n",
       "    answer = Field(annotation=str required=True json_schema_extra={'__dspy_field_type': 'output', 'prefix': 'Answer:', 'desc': '${answer}'})\n",
       "))"
      ]
     },
     "execution_count": 41,
     "metadata": {},
     "output_type": "execute_result"
    }
   ],
   "source": [
    "optimized_cot"
   ]
  },
  {
   "cell_type": "code",
   "execution_count": 29,
   "id": "51d6f64c",
   "metadata": {},
   "outputs": [
    {
     "data": {
      "text/plain": [
       "['__call__',\n",
       " '__class__',\n",
       " '__delattr__',\n",
       " '__dict__',\n",
       " '__dir__',\n",
       " '__doc__',\n",
       " '__eq__',\n",
       " '__format__',\n",
       " '__ge__',\n",
       " '__getattribute__',\n",
       " '__gt__',\n",
       " '__hash__',\n",
       " '__init__',\n",
       " '__init_subclass__',\n",
       " '__le__',\n",
       " '__lt__',\n",
       " '__module__',\n",
       " '__ne__',\n",
       " '__new__',\n",
       " '__reduce__',\n",
       " '__reduce_ex__',\n",
       " '__repr__',\n",
       " '__setattr__',\n",
       " '__sizeof__',\n",
       " '__slotnames__',\n",
       " '__str__',\n",
       " '__subclasshook__',\n",
       " '__weakref__',\n",
       " '_assert_failures',\n",
       " '_base_init',\n",
       " '_compiled',\n",
       " '_suggest_failures',\n",
       " 'activate_assertions',\n",
       " 'candidate_programs',\n",
       " 'deepcopy',\n",
       " 'dump_state',\n",
       " 'forward',\n",
       " 'load',\n",
       " 'load_state',\n",
       " 'map_named_predictors',\n",
       " 'named_parameters',\n",
       " 'named_predictors',\n",
       " 'parameters',\n",
       " 'predictors',\n",
       " 'prog',\n",
       " 'reset_copy',\n",
       " 'save']"
      ]
     },
     "execution_count": 29,
     "metadata": {},
     "output_type": "execute_result"
    }
   ],
   "source": [
    "dir(optimized_cot)"
   ]
  },
  {
   "cell_type": "code",
   "execution_count": 23,
   "id": "cad65da3",
   "metadata": {
    "scrolled": false
   },
   "outputs": [
    {
     "name": "stdout",
     "output_type": "stream",
     "text": [
      "\n",
      "\n",
      "\n",
      "\n",
      "Given the fields `question`, produce the fields `answer`.\n",
      "\n",
      "---\n",
      "\n",
      "Follow the following format.\n",
      "\n",
      "Question: ${question}\n",
      "Reasoning: Let's think step by step in order to ${produce the answer}. We ...\n",
      "Answer: ${answer}\n",
      "\n",
      "---\n",
      "\n",
      "Question: The average score on last week's Spanish test was 90. Marco scored 10% less than the average test score and Margaret received 5 more points than Marco. What score did Margaret receive on her test?\n",
      "Reasoning: Let's think step by step in order to find Margaret's score. We know that the average score was 90, so Marco's score was 10% less than 90, which is 90 * 0.9 = 81. Then, Margaret's score was 5 more points than Marco's, which is 81 + 5 = 86.\n",
      "Answer: 86\n",
      "\n",
      "---\n",
      "\n",
      "Question: Amaya scored 20 marks fewer in Maths than she scored in Arts. She also got 10 marks more in Social Studies than she got in Music. If she scored 70 in Music and scored 1/10 less in Maths, what's the total number of marks she scored in all the subjects?\n",
      "Answer: 296\n",
      "\n",
      "---\n",
      "\n",
      "Question: Megan pays $16 for a shirt that costs $22 before sales. What is the amount of the discount?\n",
      "Answer: 6\n",
      "\n",
      "---\n",
      "\n",
      "Question: Stephen made 10 round trips up and down a 40,000 foot tall mountain. If he reached 3/4 of the mountain's height on each of his trips, calculate the total distance he covered.\n",
      "Answer: 600000\n",
      "\n",
      "---\n",
      "\n",
      "Question: Wendy went to the dentist for a cleaning, two fillings, and a tooth extraction. The dentist charges $70 for a cleaning and $120 for a filling. Wendy’s dentist bill was five times the cost of a filling. What did Wendy pay for the tooth extraction?\n",
      "Reasoning: Let's think step by step in order to\u001b[32m find the cost of the tooth extraction. We know that the dentist charges $70 for a cleaning and $120 for a filling. Since Wendy's bill was five times the cost of a filling, we can set up the equation 5 * $120 = $600. This means that the total cost of the cleaning and two fillings was $600. Therefore, the cost of the tooth extraction must be the difference between Wendy's total bill and the cost of the cleaning and two fillings, which is $600 - ($70 + 2 * $120) = $290.\n",
      "Answer: 290\u001b[0m\n",
      "\n",
      "\n",
      "\n",
      "\n",
      "\n",
      "\n",
      "\n",
      "Given the fields `question`, produce the fields `answer`.\n",
      "\n",
      "---\n",
      "\n",
      "Follow the following format.\n",
      "\n",
      "Question: ${question}\n",
      "Reasoning: Let's think step by step in order to ${produce the answer}. We ...\n",
      "Answer: ${answer}\n",
      "\n",
      "---\n",
      "\n",
      "Question: The average score on last week's Spanish test was 90. Marco scored 10% less than the average test score and Margaret received 5 more points than Marco. What score did Margaret receive on her test?\n",
      "Reasoning: Let's think step by step in order to find Margaret's score. We know that the average score was 90, so Marco's score was 10% less than 90, which is 90 * 0.9 = 81. Then, Margaret's score was 5 more points than Marco's, which is 81 + 5 = 86.\n",
      "Answer: 86\n",
      "\n",
      "---\n",
      "\n",
      "Question: Amaya scored 20 marks fewer in Maths than she scored in Arts. She also got 10 marks more in Social Studies than she got in Music. If she scored 70 in Music and scored 1/10 less in Maths, what's the total number of marks she scored in all the subjects?\n",
      "Answer: 296\n",
      "\n",
      "---\n",
      "\n",
      "Question: Megan pays $16 for a shirt that costs $22 before sales. What is the amount of the discount?\n",
      "Answer: 6\n",
      "\n",
      "---\n",
      "\n",
      "Question: Stephen made 10 round trips up and down a 40,000 foot tall mountain. If he reached 3/4 of the mountain's height on each of his trips, calculate the total distance he covered.\n",
      "Answer: 600000\n",
      "\n",
      "---\n",
      "\n",
      "Question: Karen is packing her backpack for a long-distance hike. She packs 20 pounds of water, 10 pounds of food, and 20 pounds of gear. During her hike, she drinks 2 pounds of water per hour and eats 1/3rd the weight of food per hour as water per hour. How much weight is she carrying after six hours?\n",
      "Reasoning: Let's think step by step in order to\u001b[32m find the weight Karen is carrying after six hours. We know that she starts with 20 pounds of water, 10 pounds of food, and 20 pounds of gear, which is a total of 50 pounds. After one hour, she has consumed 2 pounds of water and 2/3rd of a pound of food, which is a total of 2.67 pounds. After two hours, she has consumed 4 pounds of water and 4/3rd of a pound of food, which is a total of 5.33 pounds. After three hours, she has consumed 6 pounds of water and 2 pounds of food, which is a total of 8 pounds. After four hours, she has consumed 8 pounds of water and 8/3rd of a pound of food, which is a total of 10.67 pounds. After five hours, she has consumed 10 pounds of water and 10/3rd of a pound of food, which is a total of 13.33 pounds. After six hours, she has consumed 12 pounds of water and 4 pounds of food, which is a total of 16 pounds. Therefore, she is carrying 50 - 16\u001b[0m\n",
      "\n",
      "\n",
      "\n",
      "\n",
      "\n",
      "\n",
      "\n",
      "Given the fields `question`, produce the fields `answer`.\n",
      "\n",
      "---\n",
      "\n",
      "Question: Amaya scored 20 marks fewer in Maths than she scored in Arts. She also got 10 marks more in Social Studies than she got in Music. If she scored 70 in Music and scored 1/10 less in Maths, what's the total number of marks she scored in all the subjects?\n",
      "Answer: 296\n",
      "\n",
      "Question: Megan pays $16 for a shirt that costs $22 before sales. What is the amount of the discount?\n",
      "Answer: 6\n",
      "\n",
      "Question: Stephen made 10 round trips up and down a 40,000 foot tall mountain. If he reached 3/4 of the mountain's height on each of his trips, calculate the total distance he covered.\n",
      "Answer: 600000\n",
      "\n",
      "---\n",
      "\n",
      "Follow the following format.\n",
      "\n",
      "Question: ${question}\n",
      "Reasoning: Let's think step by step in order to ${produce the answer}. We ...\n",
      "Answer: ${answer}\n",
      "\n",
      "---\n",
      "\n",
      "Question: The average score on last week's Spanish test was 90. Marco scored 10% less than the average test score and Margaret received 5 more points than Marco. What score did Margaret receive on her test?\n",
      "Reasoning: Let's think step by step in order to find Margaret's score. We know that the average score was 90, so Marco's score was 10% less than 90, which is 90 * 0.9 = 81. Then, Margaret's score was 5 more points than Marco's, which is 81 + 5 = 86.\n",
      "Answer: 86\n",
      "\n",
      "---\n",
      "\n",
      "Question: Karen is packing her backpack for a long-distance hike. She packs 20 pounds of water, 10 pounds of food, and 20 pounds of gear. During her hike, she drinks 2 pounds of water per hour and eats 1/3rd the weight of food per hour as water per hour. How much weight is she carrying after six hours?\n",
      "Reasoning: Let's think step by step in order to find the weight Karen is carrying after six hours. We know that she starts with 20 pounds of water, 10 pounds of food, and 20 pounds of gear, which is a total of 50 pounds. After one hour, she has consumed 2 pounds of water and 2/3rd of a pound of food, which is a total of 2.67 pounds. After two hours, she has consumed 4 pounds of water and 4/3rd of a pound of food, which is a total of 5.33 pounds. After three hours, she has consumed 6 pounds of water and 2 pounds of food, which is a total of 8 pounds. After four hours, she has consumed 8 pounds of water and 8/3rd of a pound of food, which is a total of 10.67 pounds. After five hours, she has consumed 10 pounds of water and 10/3rd of a pound of food, which is a total of 13.33 pounds. After six hours, she has consumed 12 pounds of water and 4 pounds of food, which is a total of 16 pounds. Therefore, she is carrying 50 - 16\n",
      "Answer:\u001b[32m 34 pounds\u001b[0m\n",
      "\n",
      "\n",
      "\n",
      "\n",
      "\n",
      "\n",
      "\n",
      "Given the fields `question`, produce the fields `answer`.\n",
      "\n",
      "---\n",
      "\n",
      "Follow the following format.\n",
      "\n",
      "Question: ${question}\n",
      "Reasoning: Let's think step by step in order to ${produce the answer}. We ...\n",
      "Answer: ${answer}\n",
      "\n",
      "---\n",
      "\n",
      "Question: The average score on last week's Spanish test was 90. Marco scored 10% less than the average test score and Margaret received 5 more points than Marco. What score did Margaret receive on her test?\n",
      "Reasoning: Let's think step by step in order to find Margaret's score. We know that the average score was 90, so Marco's score was 10% less than 90, which is 90 * 0.9 = 81. Then, Margaret's score was 5 more points than Marco's, which is 81 + 5 = 86.\n",
      "Answer: 86\n",
      "\n",
      "---\n",
      "\n",
      "Question: Amaya scored 20 marks fewer in Maths than she scored in Arts. She also got 10 marks more in Social Studies than she got in Music. If she scored 70 in Music and scored 1/10 less in Maths, what's the total number of marks she scored in all the subjects?\n",
      "Answer: 296\n",
      "\n",
      "---\n",
      "\n",
      "Question: Megan pays $16 for a shirt that costs $22 before sales. What is the amount of the discount?\n",
      "Answer: 6\n",
      "\n",
      "---\n",
      "\n",
      "Question: Stephen made 10 round trips up and down a 40,000 foot tall mountain. If he reached 3/4 of the mountain's height on each of his trips, calculate the total distance he covered.\n",
      "Answer: 600000\n",
      "\n",
      "---\n",
      "\n",
      "Question: Rita is reading a five-chapter book with 95 pages. Each chapter has three pages more than the previous one. How many pages does the first chapter have?\n",
      "Reasoning: Let's think step by step in order to\u001b[32m find the number of pages in the first chapter. We know that the book has 95 pages and there are five chapters, so each chapter has 95/5 = 19 pages on average. Since each chapter has three pages more than the previous one, the first chapter must have 19 - 3*4 = 7 pages.\n",
      "Answer: 7\u001b[0m\n",
      "\n",
      "\n",
      "\n",
      "\n",
      "\n",
      "\n",
      "\n",
      "Given the fields `question`, produce the fields `answer`.\n",
      "\n",
      "---\n",
      "\n",
      "Follow the following format.\n",
      "\n",
      "Question: ${question}\n",
      "Reasoning: Let's think step by step in order to ${produce the answer}. We ...\n",
      "Answer: ${answer}\n",
      "\n",
      "---\n",
      "\n",
      "Question: The average score on last week's Spanish test was 90. Marco scored 10% less than the average test score and Margaret received 5 more points than Marco. What score did Margaret receive on her test?\n",
      "Reasoning: Let's think step by step in order to find Margaret's score. We know that the average score was 90, so Marco's score was 10% less than 90, which is 90 * 0.9 = 81. Then, Margaret's score was 5 more points than Marco's, which is 81 + 5 = 86.\n",
      "Answer: 86\n",
      "\n",
      "---\n",
      "\n",
      "Question: Amaya scored 20 marks fewer in Maths than she scored in Arts. She also got 10 marks more in Social Studies than she got in Music. If she scored 70 in Music and scored 1/10 less in Maths, what's the total number of marks she scored in all the subjects?\n",
      "Answer: 296\n",
      "\n",
      "---\n",
      "\n",
      "Question: Megan pays $16 for a shirt that costs $22 before sales. What is the amount of the discount?\n",
      "Answer: 6\n",
      "\n",
      "---\n",
      "\n",
      "Question: Stephen made 10 round trips up and down a 40,000 foot tall mountain. If he reached 3/4 of the mountain's height on each of his trips, calculate the total distance he covered.\n",
      "Answer: 600000\n",
      "\n",
      "---\n",
      "\n",
      "Question: Benjamin collects 6 dozen eggs a day. Carla collects 3 times the number of eggs that Benjamin collects. Trisha collects 4 dozen less than Benjamin. How many dozen eggs do the three collect total?\n",
      "Reasoning: Let's think step by step in order to\u001b[32m find the total number of dozen eggs collected. We know that Benjamin collects 6 dozen eggs, so Carla collects 3 * 6 = 18 dozen eggs. Then, Trisha collects 4 dozen less than Benjamin, which is 6 - 4 = 2 dozen eggs. Therefore, the total number of dozen eggs collected is 6 + 18 + 2 = 26 dozen eggs.\n",
      "Answer: 26\u001b[0m\n",
      "\n",
      "\n",
      "\n",
      "\n",
      "\n",
      "\n",
      "\n",
      "Given the fields `question`, produce the fields `answer`.\n",
      "\n",
      "---\n",
      "\n",
      "Follow the following format.\n",
      "\n",
      "Question: ${question}\n",
      "Reasoning: Let's think step by step in order to ${produce the answer}. We ...\n",
      "Answer: ${answer}\n",
      "\n",
      "---\n",
      "\n",
      "Question: The average score on last week's Spanish test was 90. Marco scored 10% less than the average test score and Margaret received 5 more points than Marco. What score did Margaret receive on her test?\n",
      "Reasoning: Let's think step by step in order to find Margaret's score. We know that the average score was 90, so Marco's score was 10% less than 90, which is 90 * 0.9 = 81. Then, Margaret's score was 5 more points than Marco's, which is 81 + 5 = 86.\n",
      "Answer: 86\n",
      "\n",
      "---\n",
      "\n",
      "Question: Amaya scored 20 marks fewer in Maths than she scored in Arts. She also got 10 marks more in Social Studies than she got in Music. If she scored 70 in Music and scored 1/10 less in Maths, what's the total number of marks she scored in all the subjects?\n",
      "Answer: 296\n",
      "\n",
      "---\n",
      "\n",
      "Question: Megan pays $16 for a shirt that costs $22 before sales. What is the amount of the discount?\n",
      "Answer: 6\n",
      "\n",
      "---\n",
      "\n",
      "Question: Stephen made 10 round trips up and down a 40,000 foot tall mountain. If he reached 3/4 of the mountain's height on each of his trips, calculate the total distance he covered.\n",
      "Answer: 600000\n",
      "\n",
      "---\n",
      "\n",
      "Question: Roy spends 2 hours on sports activities in school every day. He goes to school 5 days a week. If he missed 2 days within a week, how many hours did he spend on sports in school that week?\n",
      "Reasoning: Let's think step by step in order to\u001b[32m find the total number of hours Roy spent on sports in school that week. We know that he spends 2 hours on sports activities every day, so in 5 days he would spend 2 * 5 = 10 hours. However, he missed 2 days, so we need to subtract 2 * 2 = 4 hours from the total. Therefore, he spent 10 - 4 = 6 hours on sports in school that week.\n",
      "Answer: 6\u001b[0m\n",
      "\n",
      "\n",
      "\n",
      "\n",
      "\n",
      "\n",
      "\n",
      "Given the fields `question`, produce the fields `answer`.\n",
      "\n",
      "---\n",
      "\n",
      "Follow the following format.\n",
      "\n",
      "Question: ${question}\n",
      "Reasoning: Let's think step by step in order to ${produce the answer}. We ...\n",
      "Answer: ${answer}\n",
      "\n",
      "---\n",
      "\n",
      "Question: The average score on last week's Spanish test was 90. Marco scored 10% less than the average test score and Margaret received 5 more points than Marco. What score did Margaret receive on her test?\n",
      "Reasoning: Let's think step by step in order to find Margaret's score. We know that the average score was 90, so Marco's score was 10% less than 90, which is 90 * 0.9 = 81. Then, Margaret's score was 5 more points than Marco's, which is 81 + 5 = 86.\n",
      "Answer: 86\n",
      "\n",
      "---\n",
      "\n",
      "Question: Amaya scored 20 marks fewer in Maths than she scored in Arts. She also got 10 marks more in Social Studies than she got in Music. If she scored 70 in Music and scored 1/10 less in Maths, what's the total number of marks she scored in all the subjects?\n",
      "Answer: 296\n",
      "\n",
      "---\n",
      "\n",
      "Question: Megan pays $16 for a shirt that costs $22 before sales. What is the amount of the discount?\n",
      "Answer: 6\n",
      "\n",
      "---\n",
      "\n",
      "Question: Stephen made 10 round trips up and down a 40,000 foot tall mountain. If he reached 3/4 of the mountain's height on each of his trips, calculate the total distance he covered.\n",
      "Answer: 600000\n",
      "\n",
      "---\n",
      "\n",
      "Question: Cameron is printing her thesis in the school library and has 400 A4 pieces of paper. If 40% of the papers did not print out up to her desired quality and she separated them as invalid, calculate the total number of valid documents.\n",
      "Reasoning: Let's think step by step in order to\u001b[32m find the total number of valid documents. We know that Cameron has 400 A4 pieces of paper, and 40% of them did not print out up to her desired quality, which is 400 * 0.4 = 160. Therefore, the total number of valid documents is 400 - 160 = 240.\n",
      "Answer: 240\u001b[0m\n",
      "\n",
      "\n",
      "\n",
      "\n",
      "\n",
      "\n",
      "\n",
      "Given the fields `question`, produce the fields `answer`.\n",
      "\n",
      "---\n",
      "\n",
      "Follow the following format.\n",
      "\n",
      "Question: ${question}\n",
      "Reasoning: Let's think step by step in order to ${produce the answer}. We ...\n",
      "Answer: ${answer}\n",
      "\n",
      "---\n",
      "\n",
      "Question: The average score on last week's Spanish test was 90. Marco scored 10% less than the average test score and Margaret received 5 more points than Marco. What score did Margaret receive on her test?\n",
      "Reasoning: Let's think step by step in order to find Margaret's score. We know that the average score was 90, so Marco's score was 10% less than 90, which is 90 * 0.9 = 81. Then, Margaret's score was 5 more points than Marco's, which is 81 + 5 = 86.\n",
      "Answer: 86\n",
      "\n",
      "---\n",
      "\n",
      "Question: Amaya scored 20 marks fewer in Maths than she scored in Arts. She also got 10 marks more in Social Studies than she got in Music. If she scored 70 in Music and scored 1/10 less in Maths, what's the total number of marks she scored in all the subjects?\n",
      "Answer: 296\n",
      "\n",
      "---\n",
      "\n",
      "Question: Megan pays $16 for a shirt that costs $22 before sales. What is the amount of the discount?\n",
      "Answer: 6\n",
      "\n",
      "---\n",
      "\n",
      "Question: Stephen made 10 round trips up and down a 40,000 foot tall mountain. If he reached 3/4 of the mountain's height on each of his trips, calculate the total distance he covered.\n",
      "Answer: 600000\n",
      "\n",
      "---\n",
      "\n",
      "Question: Burt spent $2.00 on a packet of basil seeds and $8.00 on potting soil. The packet of seeds yielded 20 basil plants. He sells each basil plant for $5.00 at the local farmer's market. What is the net profit from his basil plants?\n",
      "Reasoning: Let's think step by step in order to\u001b[32m find the net profit. We know that Burt spent $2.00 on seeds and $8.00 on soil, which is a total of $10.00. He then sold 20 plants for $5.00 each, which is a total of 20 * $5.00 = $100. Therefore, his net profit is $100 - $10 = $90.\n",
      "Answer: $90\u001b[0m\n",
      "\n",
      "\n",
      "\n",
      "\n",
      "\n",
      "\n",
      "\n",
      "Given the fields `question`, produce the fields `answer`.\n",
      "\n",
      "---\n",
      "\n",
      "Follow the following format.\n",
      "\n",
      "Question: ${question}\n",
      "Reasoning: Let's think step by step in order to ${produce the answer}. We ...\n",
      "Answer: ${answer}\n",
      "\n",
      "---\n",
      "\n",
      "Question: The average score on last week's Spanish test was 90. Marco scored 10% less than the average test score and Margaret received 5 more points than Marco. What score did Margaret receive on her test?\n",
      "Reasoning: Let's think step by step in order to find Margaret's score. We know that the average score was 90, so Marco's score was 10% less than 90, which is 90 * 0.9 = 81. Then, Margaret's score was 5 more points than Marco's, which is 81 + 5 = 86.\n",
      "Answer: 86\n",
      "\n",
      "---\n",
      "\n",
      "Question: Amaya scored 20 marks fewer in Maths than she scored in Arts. She also got 10 marks more in Social Studies than she got in Music. If she scored 70 in Music and scored 1/10 less in Maths, what's the total number of marks she scored in all the subjects?\n",
      "Answer: 296\n",
      "\n",
      "---\n",
      "\n",
      "Question: Megan pays $16 for a shirt that costs $22 before sales. What is the amount of the discount?\n",
      "Answer: 6\n",
      "\n",
      "---\n",
      "\n",
      "Question: Stephen made 10 round trips up and down a 40,000 foot tall mountain. If he reached 3/4 of the mountain's height on each of his trips, calculate the total distance he covered.\n",
      "Answer: 600000\n",
      "\n",
      "---\n",
      "\n",
      "Question: Martha's cat catches 3 rats and 7 birds. Cara's cat catches 3 less than five times as many animals as Martha's cat. How many animals does Cara's cat catch?\n",
      "Reasoning: Let's think step by step in order to\u001b[32m find the number of animals Cara's cat catches. We know that Martha's cat catches 3 rats and 7 birds, which is a total of 10 animals. Then, Cara's cat catches 3 less than five times as many animals as Martha's cat, which is (5 * 10) - 3 = 47 animals.\n",
      "Answer: 47\u001b[0m\n",
      "\n",
      "\n",
      "\n",
      "\n",
      "\n",
      "\n",
      "\n",
      "Given the fields `question`, produce the fields `answer`.\n",
      "\n",
      "---\n",
      "\n",
      "Follow the following format.\n",
      "\n",
      "Question: ${question}\n",
      "Reasoning: Let's think step by step in order to ${produce the answer}. We ...\n",
      "Answer: ${answer}\n",
      "\n",
      "---\n",
      "\n",
      "Question: The average score on last week's Spanish test was 90. Marco scored 10% less than the average test score and Margaret received 5 more points than Marco. What score did Margaret receive on her test?\n",
      "Reasoning: Let's think step by step in order to find Margaret's score. We know that the average score was 90, so Marco's score was 10% less than 90, which is 90 * 0.9 = 81. Then, Margaret's score was 5 more points than Marco's, which is 81 + 5 = 86.\n",
      "Answer: 86\n",
      "\n",
      "---\n",
      "\n",
      "Question: Amaya scored 20 marks fewer in Maths than she scored in Arts. She also got 10 marks more in Social Studies than she got in Music. If she scored 70 in Music and scored 1/10 less in Maths, what's the total number of marks she scored in all the subjects?\n",
      "Answer: 296\n",
      "\n",
      "---\n",
      "\n",
      "Question: Megan pays $16 for a shirt that costs $22 before sales. What is the amount of the discount?\n",
      "Answer: 6\n",
      "\n",
      "---\n",
      "\n",
      "Question: Stephen made 10 round trips up and down a 40,000 foot tall mountain. If he reached 3/4 of the mountain's height on each of his trips, calculate the total distance he covered.\n",
      "Answer: 600000\n",
      "\n",
      "---\n",
      "\n",
      "Question: Trey is raising money for a new bike that costs $112. He plans to spend the next two weeks selling bracelets for $1 each. On average, how many bracelets does he need to sell each day?\n",
      "Reasoning: Let's think step by step in order to\u001b[32m find the number of bracelets Trey needs to sell each day. We know that he needs to raise $112 in two weeks, which is 14 days. So, he needs to sell $112 / 14 = 8 bracelets each day.\n",
      "Answer: 8\u001b[0m\n",
      "\n",
      "\n",
      "\n"
     ]
    }
   ],
   "source": [
    "turbo.inspect_history(n=10)"
   ]
  },
  {
   "cell_type": "code",
   "execution_count": null,
   "id": "66beea33",
   "metadata": {},
   "outputs": [],
   "source": []
  }
 ],
 "metadata": {
  "kernelspec": {
   "display_name": "Python 3 (ipykernel)",
   "language": "python",
   "name": "python3"
  },
  "language_info": {
   "codemirror_mode": {
    "name": "ipython",
    "version": 3
   },
   "file_extension": ".py",
   "mimetype": "text/x-python",
   "name": "python",
   "nbconvert_exporter": "python",
   "pygments_lexer": "ipython3",
   "version": "3.9.7"
  }
 },
 "nbformat": 4,
 "nbformat_minor": 5
}
